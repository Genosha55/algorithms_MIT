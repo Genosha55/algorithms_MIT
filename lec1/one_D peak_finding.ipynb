{
 "cells": [
  {
   "cell_type": "code",
   "execution_count": 1,
   "metadata": {},
   "outputs": [],
   "source": [
    "# in one-dimensional array, there is always a peak (at position i) so that value at i >= i-1 and >= i+1, or if at \n",
    "# the end of the array, value >= value at postion within the array.\n",
    "## divide and conqour, find \"A\" peak if exist (next try find all peaks)"
   ]
  },
  {
   "cell_type": "code",
   "execution_count": null,
   "metadata": {},
   "outputs": [],
   "source": [
    "### One Dimensional Case"
   ]
  },
  {
   "cell_type": "code",
   "execution_count": 76,
   "metadata": {},
   "outputs": [],
   "source": [
    "import random"
   ]
  },
  {
   "cell_type": "code",
   "execution_count": 92,
   "metadata": {},
   "outputs": [],
   "source": [
    "class Peak_Finder:\n",
    "    def __init__(self):\n",
    "        self.peak_index = []\n",
    "        self.array = []\n",
    "        self.length = len(self.array)\n",
    "        \n",
    "\n",
    "    def find_a_peak(self, a_list):\n",
    "        result = None\n",
    "        self.array = a_list\n",
    "        self.length = len(a_list)            \n",
    "            \n",
    "        if self.length == 0:\n",
    "            print(\"empty list, thus no peak\")\n",
    "            return result\n",
    "\n",
    "        elif self.length == 1:\n",
    "            keep_going = False\n",
    "            return self.array[0]\n",
    "        else:        \n",
    "            mid = (self.length)//2\n",
    "            if mid==(self.length-1):\n",
    "                if self.array[mid]>=self.array[mid-1]:\n",
    "                    return self.array[mid]\n",
    "                else:\n",
    "                    self.array = self.array[:mid]\n",
    "                    result = self.find_a_peak(self.array)\n",
    "                    \n",
    "            elif self.array[mid]>=self.array[mid-1] and self.array[mid]>=self.array[mid+1]:\n",
    "                return self.array[mid]\n",
    "\n",
    "            elif self.array[mid]<self.array[mid-1] and self.array[mid]>=self.array[mid+1]:\n",
    "                self.array = self.array[:mid]\n",
    "                result = self.find_a_peak(self.array)\n",
    "            elif self.array[mid]>=self.array[mid-1] and self.array[mid]<self.array[mid+1]:\n",
    "                self.array = self.array[(mid+1):]\n",
    "                result = self.find_a_peak(self.array)\n",
    "            elif self.array[mid]<self.array[mid-1] and self.array[mid]<self.array[mid+1]:\n",
    "                array_left = self.array[:mid]\n",
    "                array_right = self.array[(mid+1):]\n",
    "                result = self.find_a_peak(array_left)\n",
    "                if not result:\n",
    "                    result = self.find_a_peak(array_right)\n",
    "        return result\n"
   ]
  },
  {
   "cell_type": "code",
   "execution_count": null,
   "metadata": {},
   "outputs": [],
   "source": []
  },
  {
   "cell_type": "code",
   "execution_count": 93,
   "metadata": {},
   "outputs": [],
   "source": [
    "def random_list(n):\n",
    "    a = []\n",
    "    for i in range(n):\n",
    "        item = random.randint(1,100)\n",
    "        a.append(item)\n",
    "    return a\n",
    "        "
   ]
  },
  {
   "cell_type": "code",
   "execution_count": 94,
   "metadata": {},
   "outputs": [],
   "source": [
    "a = random_list(100000)\n",
    "# print(a)"
   ]
  },
  {
   "cell_type": "code",
   "execution_count": 95,
   "metadata": {},
   "outputs": [
    {
     "name": "stdout",
     "output_type": "stream",
     "text": [
      "67\n",
      "CPU times: user 185 µs, sys: 0 ns, total: 185 µs\n",
      "Wall time: 156 µs\n"
     ]
    }
   ],
   "source": [
    "%%time\n",
    "pf = Peak_Finder()\n",
    "result = pf.find_a_peak(a)\n",
    "print(result)"
   ]
  },
  {
   "cell_type": "code",
   "execution_count": null,
   "metadata": {},
   "outputs": [],
   "source": []
  },
  {
   "cell_type": "code",
   "execution_count": null,
   "metadata": {},
   "outputs": [],
   "source": []
  },
  {
   "cell_type": "code",
   "execution_count": null,
   "metadata": {},
   "outputs": [],
   "source": []
  },
  {
   "cell_type": "code",
   "execution_count": null,
   "metadata": {},
   "outputs": [],
   "source": []
  },
  {
   "cell_type": "code",
   "execution_count": null,
   "metadata": {},
   "outputs": [],
   "source": []
  },
  {
   "cell_type": "code",
   "execution_count": null,
   "metadata": {},
   "outputs": [],
   "source": []
  },
  {
   "cell_type": "code",
   "execution_count": 38,
   "metadata": {},
   "outputs": [
    {
     "name": "stdout",
     "output_type": "stream",
     "text": [
      "[1, 2]\n",
      "[]\n"
     ]
    }
   ],
   "source": [
    "a = [1,2]\n",
    "b = 3\n",
    "a_l = a[:b]\n",
    "print(a_l)\n",
    "a_r = a[b:]\n",
    "print(a_r)"
   ]
  },
  {
   "cell_type": "code",
   "execution_count": 40,
   "metadata": {},
   "outputs": [
    {
     "data": {
      "text/plain": [
       "[]"
      ]
     },
     "execution_count": 40,
     "metadata": {},
     "output_type": "execute_result"
    }
   ],
   "source": [
    "a[2:]"
   ]
  },
  {
   "cell_type": "code",
   "execution_count": 57,
   "metadata": {},
   "outputs": [
    {
     "name": "stdout",
     "output_type": "stream",
     "text": [
      "a\n"
     ]
    }
   ],
   "source": [
    "if not None:\n",
    "    print(\"a\")"
   ]
  },
  {
   "cell_type": "code",
   "execution_count": null,
   "metadata": {},
   "outputs": [],
   "source": []
  }
 ],
 "metadata": {
  "kernelspec": {
   "display_name": "Python 3",
   "language": "python",
   "name": "python3"
  },
  "language_info": {
   "codemirror_mode": {
    "name": "ipython",
    "version": 3
   },
   "file_extension": ".py",
   "mimetype": "text/x-python",
   "name": "python",
   "nbconvert_exporter": "python",
   "pygments_lexer": "ipython3",
   "version": "3.7.6"
  }
 },
 "nbformat": 4,
 "nbformat_minor": 4
}
