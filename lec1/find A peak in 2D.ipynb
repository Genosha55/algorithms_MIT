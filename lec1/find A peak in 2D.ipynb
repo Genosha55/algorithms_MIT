{
 "cells": [
  {
   "cell_type": "code",
   "execution_count": 69,
   "metadata": {},
   "outputs": [],
   "source": [
    "## 2D peak for value in postion i if value is >= its four neighbours (Greedy Ascent Algorithm, \n",
    "## take a (ascending) direction to find the peak)\n",
    "\n",
    "## recursive version: pick a middle, find a GLOBAL maximum at one col\n",
    "## \n",
    "\n"
   ]
  },
  {
   "cell_type": "code",
   "execution_count": 93,
   "metadata": {},
   "outputs": [],
   "source": [
    "import numpy as np\n",
    "import random"
   ]
  },
  {
   "cell_type": "code",
   "execution_count": 239,
   "metadata": {},
   "outputs": [],
   "source": [
    "class Peak_Finder_2D:\n",
    "    def __init__(self):        \n",
    "        self.result = None\n",
    "    \n",
    "    @staticmethod\n",
    "    def find_global_max(a_list):\n",
    "        a_list = a_list.tolist()\n",
    "        return a_list.index(max(a_list)) # [i,j] for the final answer, this is a running i    \n",
    "    \n",
    "    @staticmethod\n",
    "    def taking_left(a_2D_list, mid):\n",
    "        return a_2D_list[:,:mid]\n",
    "    \n",
    "    @staticmethod\n",
    "    def taking_right(a_2D_list, mid):\n",
    "        return a_2D_list[:,(mid+1):]\n",
    "    \n",
    "    def find_2D_peak(self,a_2D_list):\n",
    "        col_num = np.size(a_2D_list,1)\n",
    "        row_num = np.size(a_2D_list,0)\n",
    "\n",
    "        if col_num == 1:\n",
    "            mid_col = a_2D_list[:,0]\n",
    "            max_rwo = self.find_global_max(mid_col)\n",
    "            return a_2D_list[max_row, 0]\n",
    "        else:        \n",
    "            mid = (col_num)//2            \n",
    "            mid_col = a_2D_list[:,mid]\n",
    "#             print(\"looking at colomn\", mid_col)\n",
    "            max_row = self.find_global_max(mid_col)\n",
    "            if mid==(col_num-1):\n",
    "#                 print(\"reach edge\")\n",
    "                if a_2D_list[max_row,mid]>=a_2D_list[max_row,mid-1]:\n",
    "                    return a_2D_list[max_row,mid]\n",
    "                else:\n",
    "                    a_2D_list = self.taking_left(a_2D_list, mid)\n",
    "                    result = self.find_2D_peak(a_2D_list)\n",
    "\n",
    "            elif a_2D_list[max_row,mid]>=a_2D_list[max_row,mid-1] and a_2D_list[max_row,mid]>=a_2D_list[max_row,mid+1]:\n",
    "#                 print(\"easy here\")\n",
    "                return a_2D_list[max_row,mid]\n",
    "\n",
    "            elif a_2D_list[max_row,mid]<a_2D_list[max_row,mid-1] and a_2D_list[max_row,mid]>=a_2D_list[max_row,mid+1]:\n",
    "#                 print(\"go left\")\n",
    "                a_2D_list = self.taking_left(a_2D_list, mid)\n",
    "                result = self.find_2D_peak(a_2D_list)\n",
    "            elif a_2D_list[max_row,mid]>=a_2D_list[max_row,mid-1] and a_2D_list[max_row,mid]<a_2D_list[max_row,mid+1]:\n",
    "#                 print(\"go right\")\n",
    "                a_2D_list = self.taking_right(a_2D_list, mid)\n",
    "                result = self.find_2D_peak(a_2D_list)\n",
    "            elif a_2D_list[max_row,mid]<a_2D_list[max_row,mid-1] and a_2D_list[max_row,mid]<a_2D_list[max_row,mid+1]:\n",
    "#                 print(\"go left sure\")\n",
    "                array_left = self.taking_left(a_2D_list, mid)\n",
    "                array_right = self.taking_right(a_2D_list, mid)\n",
    "                result = self.find_2D_peak(array_left)\n",
    "#                 if not result:\n",
    "#                     result = self.find_2D_peak(array_right)\n",
    "        return result\n",
    "    \n",
    "    "
   ]
  },
  {
   "cell_type": "code",
   "execution_count": 248,
   "metadata": {},
   "outputs": [],
   "source": [
    "a = np.random.randint(100,size=(10000,10000))\n",
    "# print(a)\n",
    "# print(np.size(a,0))\n",
    "# print(a[0,0])"
   ]
  },
  {
   "cell_type": "code",
   "execution_count": 249,
   "metadata": {},
   "outputs": [
    {
     "name": "stdout",
     "output_type": "stream",
     "text": [
      "99\n",
      "CPU times: user 670 µs, sys: 32 µs, total: 702 µs\n",
      "Wall time: 691 µs\n"
     ]
    }
   ],
   "source": [
    "%%time\n",
    "pf = Peak_Finder_2D()\n",
    "result = pf.find_2D_peak(a)\n",
    "print(result)"
   ]
  },
  {
   "cell_type": "code",
   "execution_count": null,
   "metadata": {},
   "outputs": [],
   "source": []
  },
  {
   "cell_type": "code",
   "execution_count": null,
   "metadata": {},
   "outputs": [],
   "source": []
  },
  {
   "cell_type": "code",
   "execution_count": null,
   "metadata": {},
   "outputs": [],
   "source": []
  },
  {
   "cell_type": "code",
   "execution_count": null,
   "metadata": {},
   "outputs": [],
   "source": []
  },
  {
   "cell_type": "code",
   "execution_count": null,
   "metadata": {},
   "outputs": [],
   "source": []
  },
  {
   "cell_type": "code",
   "execution_count": null,
   "metadata": {},
   "outputs": [],
   "source": []
  },
  {
   "cell_type": "code",
   "execution_count": null,
   "metadata": {},
   "outputs": [],
   "source": []
  },
  {
   "cell_type": "code",
   "execution_count": 59,
   "metadata": {},
   "outputs": [
    {
     "data": {
      "text/plain": [
       "4"
      ]
     },
     "execution_count": 59,
     "metadata": {},
     "output_type": "execute_result"
    }
   ],
   "source": [
    "a = [1,2,3,4,5]\n",
    "a.index(max(a))\n",
    "\n"
   ]
  },
  {
   "cell_type": "code",
   "execution_count": 65,
   "metadata": {},
   "outputs": [
    {
     "name": "stdout",
     "output_type": "stream",
     "text": [
      "[]\n"
     ]
    }
   ],
   "source": [
    "b = np.array([])\n",
    "print(b)"
   ]
  },
  {
   "cell_type": "code",
   "execution_count": null,
   "metadata": {},
   "outputs": [],
   "source": []
  }
 ],
 "metadata": {
  "kernelspec": {
   "display_name": "Python 3",
   "language": "python",
   "name": "python3"
  },
  "language_info": {
   "codemirror_mode": {
    "name": "ipython",
    "version": 3
   },
   "file_extension": ".py",
   "mimetype": "text/x-python",
   "name": "python",
   "nbconvert_exporter": "python",
   "pygments_lexer": "ipython3",
   "version": "3.7.6"
  }
 },
 "nbformat": 4,
 "nbformat_minor": 4
}
