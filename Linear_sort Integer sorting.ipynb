{
 "cells": [
  {
   "cell_type": "code",
   "execution_count": 1,
   "metadata": {},
   "outputs": [],
   "source": [
    "## assume n keys sorting are integers {0,1,2...k-1} (non negative for simplicity)\n",
    "## (& each fits in a word)\n",
    "## can do a lot more than just comparison\n",
    "## for k... can sort in O(n) time"
   ]
  },
  {
   "cell_type": "code",
   "execution_count": 2,
   "metadata": {},
   "outputs": [],
   "source": [
    "# Counting Sort"
   ]
  },
  {
   "cell_type": "markdown",
   "metadata": {},
   "source": [
    "L = [] # len of L is k empty lists\n",
    "n = 10\n",
    "A = [1,2,3,4,5,6,7,8,9]\n",
    "for j in range(n):\n",
    "    L[key(A[j])].append(A[j])\n",
    "output = []\n",
    "for i in range k:\n",
    "    output.extend(L[i])"
   ]
  },
  {
   "cell_type": "code",
   "execution_count": 3,
   "metadata": {},
   "outputs": [],
   "source": [
    "# radix sort"
   ]
  },
  {
   "cell_type": "code",
   "execution_count": null,
   "metadata": {},
   "outputs": [],
   "source": [
    "# b based representation of a integer d = logbK\n",
    "# do conting sort from most least significant digit to the most\n",
    "# O((n+b) * d) = O((n+b)logbK)\n",
    "# when b = O(n); b=n, =O(nlognK), for k = n^ O(1), (K = n^C)  then = O(nc)"
   ]
  }
 ],
 "metadata": {
  "kernelspec": {
   "display_name": "Python 3",
   "language": "python",
   "name": "python3"
  },
  "language_info": {
   "codemirror_mode": {
    "name": "ipython",
    "version": 3
   },
   "file_extension": ".py",
   "mimetype": "text/x-python",
   "name": "python",
   "nbconvert_exporter": "python",
   "pygments_lexer": "ipython3",
   "version": "3.7.6"
  }
 },
 "nbformat": 4,
 "nbformat_minor": 4
}
